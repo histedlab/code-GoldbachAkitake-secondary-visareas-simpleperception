{
 "cells": [
  {
   "cell_type": "markdown",
   "metadata": {},
   "source": [
    "# Physiology data\n",
    "\n",
    "Load data and example plots\n",
    "\n",
    "This notebook shows how to read data from npz files and plot population responses\n",
    "\n",
    "#### from: Goldbach, Akitake, Leedy, Histed, \"Performance in even a simple perceptual task depends on mouse secondary visual areas\"\n",
    "\n",
    "------------\n",
    "\n",
    "\n",
    "\n"
   ]
  },
  {
   "cell_type": "code",
   "execution_count": 1,
   "metadata": {},
   "outputs": [],
   "source": [
    "import numpy as np\n",
    "import matplotlib as mpl\n",
    "import matplotlib.pyplot as plt\n",
    "import pandas as pd\n",
    "import seaborn as sns \n",
    "from pathlib import Path\n",
    "\n",
    "import pytoolsMH as ptMH # utils, clone from: https://github.com/histed/PyToolsMH\n",
    "\n",
    "a_ = np.asarray\n",
    "r_ = np.r_\n",
    "\n",
    "# Plotting setup\n",
    "sns.set_style('ticks')\n",
    "sns.set_context('paper')"
   ]
  },
  {
   "cell_type": "markdown",
   "metadata": {},
   "source": [
    "## Load physiology datafiles "
   ]
  },
  {
   "cell_type": "code",
   "execution_count": 2,
   "metadata": {},
   "outputs": [],
   "source": [
    "# Load npz physiology data files\n",
    "data_dir = Path('../data').resolve()\n",
    "\n",
    "file_list = ['phys_outV1.npz', 'phys_outLM_dLM.npz', 'phys_outPM_dPM.npz', 'phys_outLM_V1f.npz', 'phys_outPM_V1f.npz', 'phys_outLM.npz', 'phys_outPM.npz' ]\n",
    "data_dict = {}\n",
    "\n",
    "for (iO,tO) in enumerate (file_list):\n",
    "    npzfile = np.load(data_dir / tO)\n",
    "    meanMat = npzfile['meanMat']\n",
    "    semMat = npzfile['semMat']\n",
    "    xv = npzfile['xv']\n",
    "    unqPowers = npzfile['unqPowers']\n",
    "    offsets = npzfile['offsets']\n",
    "    SelUnits = npzfile['SelUnits']\n",
    "    \n",
    "    ds = pd.Series({'meanMat': meanMat, 'semMat': semMat, 'xv':xv, 'unqPowers': unqPowers,'SelUnits': SelUnits, 'offsets': offsets})\n",
    "    data_dict.update({tO: ds})"
   ]
  },
  {
   "cell_type": "markdown",
   "metadata": {},
   "source": [
    "# Population physiology responses - Figure 5"
   ]
  },
  {
   "cell_type": "markdown",
   "metadata": {},
   "source": [
    "In the panel below, change the variable in npzfile, to read in data from different physiology analyses.\n",
    "\n",
    "Direct inhibtion of V1, LM, or PM while recording in the same area:\n",
    "* phys_outV1.npz \n",
    "* phys_outLM_dLM.npz \n",
    "* phys_outPM_dPM.npz\n",
    "\n",
    "Feedforward inhibition of V1 while recording in LM or PM:\n",
    "* phys_outLM_V1f.npz\n",
    "* phys_outPM_V1f.npz\n",
    "\n",
    "Feedback, effects of HVA inhibition while recording in V1\"\n",
    "* phys_outLM.npz\n",
    "* phys_outPM.npz\n",
    "\n",
    "Plots show  in the visual response window. Colorbar labels are mW/mm2. These data are used for Figure 5. \n"
   ]
  },
  {
   "cell_type": "code",
   "execution_count": 7,
   "metadata": {},
   "outputs": [
    {
     "data": {
      "image/png": "[encoded data removed]",
      "text/plain": [
       "<Figure size 240x300 with 2 Axes>"
      ]
     },
     "metadata": {},
     "output_type": "display_data"
    }
   ],
   "source": [
    "# Load npz physiology data file from data_dict - Change file to view different analyses (see above)\n",
    "# Direct inhibition of LM during with recording in LM shown as an example.\n",
    "npzfile_name = 'phys_outLM_dLM.npz'\n",
    "npzfile = data_dict[npzfile_name]\n",
    "\n",
    "fig, ax = plt.subplots(figsize=r_[2,2.5], dpi=120) \n",
    "\n",
    "# Color bar plotting\n",
    "cbarPowers = npzfile['unqPowers']\n",
    "lowOffP = 0\n",
    "cbarPowers[cbarPowers==0] = 10**-1.5  # set zero power at a fixed offset\n",
    "logP = np.log10(cbarPowers)\n",
    "\n",
    "# Construct a mappable that converts log inputs to colors, with specified clim\n",
    "nMapC = 256\n",
    "clim = r_[-1.5,1]\n",
    "smap = mpl.cm.ScalarMappable(norm=mpl.colors.Normalize(vmin=clim[0], vmax=clim[1]), cmap='rocket')\n",
    "\n",
    "# Create plots with available stimulation power levels\n",
    "for (iP, tP) in enumerate(npzfile['unqPowers']):\n",
    "        tV = npzfile.meanMat[iP]\n",
    "        sem = npzfile.semMat[iP]\n",
    "        \n",
    "        # Set the amount of smoothing with sspan\n",
    "        tV = ptMH.math.smooth_lowess(tV, span = 35)      \n",
    "        sem = ptMH.math.smooth_lowess(sem, span = 35)\n",
    "\n",
    "        tLogPow = logP[iP]\n",
    "        powerPct = (tLogPow - np.min(clim) + lowOffP) / np.diff(clim)\n",
    "        cmapN = int(powerPct * 255) # map to an index 0..255 for use indexing into colormap\n",
    "\n",
    "        ax.plot(npzfile.xv, tV + npzfile.offsets[iP], linewidth = 0.5, label=tP, color=smap.to_rgba(tLogPow))\n",
    "        ax.fill_between(npzfile.xv, (tV + npzfile.offsets[iP]) + sem, (tV + npzfile.offsets[iP])-sem, alpha=0.4, linewidth = 0, color=smap.to_rgba(tLogPow))\n",
    "        \n",
    "# Create colorbar\n",
    "yts = r_[logP[0],-1,0,1]\n",
    "cbh = plt.colorbar(smap, ticks = yts) # set ticks on colorbar here\n",
    "labs = ['%g'%x for x in np.hstack((0,10**yts[1:]))] # force y tick labels\n",
    "cbh.outline.set_linewidth(0.5)\n",
    "cbh.ax.tick_params(axis='both', width = 0.5, length = 3)\n",
    "cbh.ax.set_yticklabels(labs,fontsize = 7)\n",
    "cbh.set_label('intensity (mW/mm$^2$)', fontsize=7)\n",
    "\n",
    "# Adjust plot parameters\n",
    "ax.spines['right'].set_visible(False)\n",
    "ax.spines['top'].set_visible(False)\n",
    "ax.set_title(npzfile_name + '\\n' + 'vis resp. (baseline corr.)' + '\\n' + '(N = ' + str(npzfile.SelUnits) +')', fontsize = 7)\n",
    "ax.set_ylabel('$\\Delta$ spike rate (spk/s)', fontsize = 7)\n",
    "ax.set_xlabel('Time (ms)', fontsize = 7)\n",
    "ax.set_ylim([-4,18])\n",
    "ax.set_xlim([75,250])\n",
    "ax.set_xticks([100, 150, 200, 250])\n",
    "ax.tick_params(axis='x',labelsize=7, pad=0.4, length=3)\n",
    "ax.tick_params(axis='y',labelsize=7, pad=0.4, length=3)\n",
    "\n",
    "plt.tight_layout()"
   ]
  },
  {
   "cell_type": "code",
   "execution_count": null,
   "metadata": {},
   "outputs": [],
   "source": []
  }
 ],
 "metadata": {
  "jupytext": {
   "formats": "ipynb,md"
  },
  "kernelspec": {
   "display_name": "Python 3",
   "language": "python",
   "name": "python3"
  },
  "language_info": {
   "codemirror_mode": {
    "name": "ipython",
    "version": 3
   },
   "file_extension": ".py",
   "mimetype": "text/x-python",
   "name": "python",
   "nbconvert_exporter": "python",
   "pygments_lexer": "ipython3",
   "version": "3.7.6"
  }
 },
 "nbformat": 4,
 "nbformat_minor": 4
}
